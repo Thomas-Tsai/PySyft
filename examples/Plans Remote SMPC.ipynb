{
 "cells": [
  {
   "cell_type": "code",
   "execution_count": 1,
   "metadata": {},
   "outputs": [],
   "source": [
    "import torch\n",
    "import torch.nn as nn\n",
    "import torch.nn.functional as F\n",
    "from syft.workers.node_client import NodeClient\n",
    "import syft as sy  # import the Pysyft library"
   ]
  },
  {
   "cell_type": "code",
   "execution_count": 2,
   "metadata": {},
   "outputs": [],
   "source": [
    "hook = sy.TorchHook(torch)  # hook PyTorch ie add extra functionalities \n",
    "\n",
    "# IMPORTANT: Local worker should not be a client worker\n",
    "hook.local_worker.is_client_worker = False\n",
    "server = hook.local_worker"
   ]
  },
  {
   "cell_type": "code",
   "execution_count": 3,
   "metadata": {},
   "outputs": [],
   "source": [
    "x11 = torch.tensor([-1, 2.]).tag('input_data')\n",
    "x12 = torch.tensor([1, -2.]).tag('input_data2')\n",
    "x21 = torch.tensor([-1, 2.]).tag('input_data')\n",
    "x22 = torch.tensor([1, -2.]).tag('input_data2')"
   ]
  },
  {
   "cell_type": "code",
   "execution_count": 4,
   "metadata": {},
   "outputs": [],
   "source": [
    "alice = NodeClient(hook, \"ws://localhost:6666\" , id=\"alice\")\n",
    "bob = NodeClient(hook, \"ws://localhost:6667\" , id=\"bob\")\n",
    "charlie = NodeClient(hook, \"ws://localhost:6668\" , id=\"charlie\")\n",
    "grid = sy.PrivateGridNetwork(alice, bob, charlie)"
   ]
  },
  {
   "cell_type": "code",
   "execution_count": 5,
   "metadata": {},
   "outputs": [],
   "source": [
    "class Net(sy.Plan):\n",
    "    def __init__(self):\n",
    "        super(Net, self).__init__()\n",
    "        self.fc1 = nn.Linear(2, 3)\n",
    "        self.fc2 = nn.Linear(3, 2)\n",
    "\n",
    "    def forward(self, x):\n",
    "        x = F.relu(self.fc1(x))\n",
    "        x = self.fc2(x)\n",
    "        return F.log_softmax(x, dim=0)"
   ]
  },
  {
   "cell_type": "code",
   "execution_count": 6,
   "metadata": {},
   "outputs": [
    {
     "data": {
      "text/plain": [
       "PlaceHolder[Id:19838256510]>tensor([-0.9544, -0.4862], grad_fn=<LogSoftmaxBackward>)"
      ]
     },
     "execution_count": 6,
     "metadata": {},
     "output_type": "execute_result"
    }
   ],
   "source": [
    "net = Net()\n",
    "net_2 = Net()\n",
    "\n",
    "net.build(torch.tensor([1., 2.]))\n",
    "net_2.build(torch.tensor([1., 2.]))"
   ]
  },
  {
   "cell_type": "code",
   "execution_count": 7,
   "metadata": {},
   "outputs": [
    {
     "name": "stdout",
     "output_type": "stream",
     "text": [
      "[Parameter containing:\n",
      "tensor([[ 0.2663,  0.0383],\n",
      "        [ 0.2315, -0.6249],\n",
      "        [ 0.7035,  0.3375]], requires_grad=True), Parameter containing:\n",
      "tensor([ 0.2425,  0.1366, -0.0398], requires_grad=True), Parameter containing:\n",
      "tensor([[ 0.2589,  0.4239,  0.4886],\n",
      "        [-0.5572,  0.5263, -0.5643]], requires_grad=True), Parameter containing:\n",
      "tensor([0.2787, 0.4987], requires_grad=True)]\n"
     ]
    }
   ],
   "source": [
    "print(net.parameters())"
   ]
  },
  {
   "cell_type": "code",
   "execution_count": 8,
   "metadata": {},
   "outputs": [
    {
     "name": "stdout",
     "output_type": "stream",
     "text": [
      "[Parameter containing:\n",
      "tensor([[ 0.6512, -0.3418],\n",
      "        [ 0.0445,  0.2618],\n",
      "        [ 0.2344,  0.4595]], requires_grad=True), Parameter containing:\n",
      "tensor([ 0.3079,  0.4547, -0.4008], requires_grad=True), Parameter containing:\n",
      "tensor([[-0.5297,  0.1098, -0.4748],\n",
      "        [ 0.3195, -0.4971,  0.2007]], requires_grad=True), Parameter containing:\n",
      "tensor([0.0203, 0.3668], requires_grad=True)]\n"
     ]
    }
   ],
   "source": [
    "print(net_2.parameters())"
   ]
  },
  {
   "cell_type": "code",
   "execution_count": 9,
   "metadata": {},
   "outputs": [
    {
     "data": {
      "text/plain": [
       "4"
      ]
     },
     "execution_count": 9,
     "metadata": {},
     "output_type": "execute_result"
    }
   ],
   "source": [
    "len(net.parameters())"
   ]
  },
  {
   "cell_type": "code",
   "execution_count": 10,
   "metadata": {},
   "outputs": [],
   "source": [
    "enc_params = []\n",
    "params = list(net.parameters())\n",
    "for param_index in range(len(params)):\n",
    "    copy_para = params[param_index].copy()\n",
    "    fix_para = copy_para.fix_precision(precision_fractional=5)\n",
    "    enc_para = fix_para.share(alice, bob, charlie)\n",
    "    enc_params.append(enc_para)"
   ]
  },
  {
   "cell_type": "code",
   "execution_count": 11,
   "metadata": {},
   "outputs": [],
   "source": [
    "enc_params_2 = []\n",
    "params_2 = list(net_2.parameters())\n",
    "for param_index in range(len(params_2)):\n",
    "    copy_para_2 = params_2[param_index].copy()\n",
    "    fix_para_2 = copy_para_2.fix_precision(precision_fractional=5)\n",
    "    enc_para_2 = fix_para_2.share(alice, bob, charlie)\n",
    "    enc_params_2.append(enc_para_2)"
   ]
  },
  {
   "cell_type": "code",
   "execution_count": 12,
   "metadata": {},
   "outputs": [
    {
     "data": {
      "text/plain": [
       "4"
      ]
     },
     "execution_count": 12,
     "metadata": {},
     "output_type": "execute_result"
    }
   ],
   "source": [
    "len(enc_params)"
   ]
  },
  {
   "cell_type": "code",
   "execution_count": 13,
   "metadata": {},
   "outputs": [
    {
     "data": {
      "text/plain": [
       "4"
      ]
     },
     "execution_count": 13,
     "metadata": {},
     "output_type": "execute_result"
    }
   ],
   "source": [
    "len(enc_params_2)"
   ]
  },
  {
   "cell_type": "code",
   "execution_count": 14,
   "metadata": {},
   "outputs": [],
   "source": [
    "enc_params_3 = []\n",
    "for param_index in range(len(enc_params)):\n",
    "    enc_params_3.append(enc_params[param_index] + enc_params_2[param_index])"
   ]
  },
  {
   "cell_type": "code",
   "execution_count": 15,
   "metadata": {},
   "outputs": [
    {
     "data": {
      "text/plain": [
       "4"
      ]
     },
     "execution_count": 15,
     "metadata": {},
     "output_type": "execute_result"
    }
   ],
   "source": [
    "len(enc_params_3)"
   ]
  },
  {
   "cell_type": "code",
   "execution_count": 16,
   "metadata": {},
   "outputs": [],
   "source": [
    "params_3 = []\n",
    "for param_index in range(len(enc_params_3)):\n",
    "    decrypt_para_sum = enc_params_3[param_index].get()\n",
    "    float_para_sum = decrypt_para_sum.float_precision()\n",
    "    params_3.append(float_para_sum)"
   ]
  },
  {
   "cell_type": "code",
   "execution_count": null,
   "metadata": {},
   "outputs": [],
   "source": []
  }
 ],
 "metadata": {
  "kernelspec": {
   "display_name": "Python 3",
   "language": "python",
   "name": "python3"
  },
  "language_info": {
   "codemirror_mode": {
    "name": "ipython",
    "version": 3
   },
   "file_extension": ".py",
   "mimetype": "text/x-python",
   "name": "python",
   "nbconvert_exporter": "python",
   "pygments_lexer": "ipython3",
   "version": "3.6.10"
  }
 },
 "nbformat": 4,
 "nbformat_minor": 2
}
